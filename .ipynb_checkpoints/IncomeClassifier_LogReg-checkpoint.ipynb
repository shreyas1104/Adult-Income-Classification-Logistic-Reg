{
 "cells": [
  {
   "cell_type": "code",
   "execution_count": null,
   "id": "984c2621",
   "metadata": {},
   "outputs": [],
   "source": [
    "import warnings\n",
    "warnings.filterwarnings(\"ignore\")\n",
    "\n",
    "import pandas as pd\n",
    "import numpy as np\n",
    "import matplotlib.pyplot as plt\n",
    "import seaborn as sns\n",
    "from sklearn.model_selection import train_test_split\n",
    "import sys\n",
    "sys.setrecursionlimit(1500)"
   ]
  },
  {
   "cell_type": "code",
   "execution_count": null,
   "id": "ff1a5f9a",
   "metadata": {},
   "outputs": [],
   "source": [
    "adult_ds = pd.read_csv(\"adult.csv\")"
   ]
  },
  {
   "cell_type": "code",
   "execution_count": null,
   "id": "869c9a8f",
   "metadata": {},
   "outputs": [],
   "source": [
    "adult_ds.columns = ['Age', 'Workclass', 'Fnlwgt', 'Education', 'EducationNum', 'MaritalStatus',\n",
    "                   'Occupation', 'Relationship', 'Race', 'Sex', 'CapitalGain', 'CapitalLoss',\n",
    "                   'HoursPerWeek', 'NativeCountry', 'Income']"
   ]
  },
  {
   "cell_type": "markdown",
   "id": "73b4d69a",
   "metadata": {},
   "source": [
    "---"
   ]
  },
  {
   "cell_type": "markdown",
   "id": "8528fd85",
   "metadata": {},
   "source": [
    "##### Exploratory Data Analysis"
   ]
  },
  {
   "cell_type": "code",
   "execution_count": null,
   "id": "3d22bf09",
   "metadata": {},
   "outputs": [],
   "source": [
    "# Display first 5 entries\n",
    "adult_ds.head()"
   ]
  },
  {
   "cell_type": "code",
   "execution_count": null,
   "id": "73f16717",
   "metadata": {},
   "outputs": [],
   "source": [
    "# Info about columns, type of data \n",
    "adult_ds.info()"
   ]
  },
  {
   "cell_type": "code",
   "execution_count": null,
   "id": "dc860469",
   "metadata": {},
   "outputs": [],
   "source": [
    "# Getting various statistical data like Mean, Standard Deviation, Median, Max Value, Min Value (excludes categorical vars)\n",
    "adult_ds.describe()"
   ]
  },
  {
   "cell_type": "code",
   "execution_count": null,
   "id": "73ff5b2d",
   "metadata": {},
   "outputs": [],
   "source": [
    "# Checking if columns have null values, if null- we replace with mean/median or simply drop these entries\n",
    "adult_ds.isnull().sum()"
   ]
  },
  {
   "cell_type": "code",
   "execution_count": null,
   "id": "be6c8934",
   "metadata": {},
   "outputs": [],
   "source": [
    "# Checking correlation between variables (including target var to identify how features affect it) \n",
    "sns.heatmap(adult_ds.corr(), annot=True)"
   ]
  },
  {
   "cell_type": "code",
   "execution_count": null,
   "id": "a5217ba1",
   "metadata": {},
   "outputs": [],
   "source": [
    "# Count of Income <=50K and >50K for each category of WorkingClass\n",
    "sns.countplot(data=adult_ds, x=adult_ds['Income'], hue='Workclass').set(xlabel='Income Type', ylabel='Count')\n",
    "plt.legend(bbox_to_anchor=(1.05, 1), loc='upper left', borderaxespad=0.)"
   ]
  },
  {
   "cell_type": "code",
   "execution_count": null,
   "id": "98dd2682",
   "metadata": {},
   "outputs": [],
   "source": [
    "# Count of Income <=50K and >50K for each category of Education\n",
    "sns.countplot(data=adult_ds, x=adult_ds['Income'], hue='Education').set(xlabel='Income Type', ylabel='Count')\n",
    "plt.legend(bbox_to_anchor=(1.05, 1), loc='upper left', borderaxespad=0.)"
   ]
  },
  {
   "cell_type": "code",
   "execution_count": null,
   "id": "f479ce81",
   "metadata": {},
   "outputs": [],
   "source": [
    "# Count of Income <=50K and >50K for each category of MaritalStatus\n",
    "sns.countplot(data=adult_ds, x=adult_ds['Income'], hue='MaritalStatus').set(xlabel='Income Type', ylabel='Count')\n",
    "plt.legend(bbox_to_anchor=(1.05, 1), loc='upper left', borderaxespad=0.)"
   ]
  },
  {
   "cell_type": "code",
   "execution_count": null,
   "id": "9deb432b",
   "metadata": {},
   "outputs": [],
   "source": [
    "# Count of Income <=50K and >50K for each category of Occupation\n",
    "sns.countplot(data=adult_ds, x=adult_ds['Income'], hue='Occupation').set(xlabel='Income Type', ylabel='Count')\n",
    "plt.legend(bbox_to_anchor=(1.05, 1), loc='upper left', borderaxespad=0.)"
   ]
  },
  {
   "cell_type": "code",
   "execution_count": null,
   "id": "5f027cc0",
   "metadata": {},
   "outputs": [],
   "source": [
    "# Count of Income <=50K and >50K for each category of Relationship\n",
    "sns.countplot(data=adult_ds, x=adult_ds['Income'], hue='Relationship').set(xlabel='Income Type', ylabel='Count')\n",
    "plt.legend(bbox_to_anchor=(1.05, 1), loc='upper left', borderaxespad=0.)"
   ]
  },
  {
   "cell_type": "code",
   "execution_count": null,
   "id": "4f9c7751",
   "metadata": {},
   "outputs": [],
   "source": [
    "# Count of Income <=50K and >50K for each category of Race\n",
    "sns.countplot(data=adult_ds, x=adult_ds['Income'], hue='Race').set(xlabel='Income Type', ylabel='Count')\n",
    "plt.legend(bbox_to_anchor=(1.05, 1), loc='upper left', borderaxespad=0.)"
   ]
  },
  {
   "cell_type": "code",
   "execution_count": null,
   "id": "de113f4c",
   "metadata": {},
   "outputs": [],
   "source": [
    "# Count of Income <=50K and >50K for each category of Sex\n",
    "sns.countplot(data=adult_ds, x=adult_ds['Income'], hue='Sex').set(xlabel='Income Type', ylabel='Count')\n",
    "plt.legend(bbox_to_anchor=(1.05, 1), loc='upper left', borderaxespad=0.)"
   ]
  },
  {
   "cell_type": "code",
   "execution_count": null,
   "id": "da19d931",
   "metadata": {},
   "outputs": [],
   "source": [
    "adult_ds['Income'].value_counts()"
   ]
  },
  {
   "cell_type": "code",
   "execution_count": null,
   "id": "dacca53c",
   "metadata": {},
   "outputs": [],
   "source": [
    "# Transform <=50K to 0 and >50K to 1 in Income column\n",
    "\n",
    "adult_ds['Income'] = np.where(adult_ds['Income'] == ' <=50K', 0, 1)\n",
    "adult_ds.head()"
   ]
  },
  {
   "cell_type": "code",
   "execution_count": null,
   "id": "bf354ee2",
   "metadata": {},
   "outputs": [],
   "source": [
    "adult_ds['Income'].value_counts()"
   ]
  },
  {
   "cell_type": "markdown",
   "id": "7f1a00e3",
   "metadata": {},
   "source": [
    "Checking if Age, Fnlwgt, CapitalGain, CapitalLoss, HoursPerWeek are linearly related to Log-Odds of Income "
   ]
  },
  {
   "cell_type": "code",
   "execution_count": null,
   "id": "62cc4c6f",
   "metadata": {},
   "outputs": [],
   "source": [
    "# Age\n",
    "sns.regplot(data=adult_ds, x=adult_ds['Age'], y=adult_ds['Income'], logistic= True).set(xlabel='Log-Odds(Income)', ylabel=\"Age\")"
   ]
  },
  {
   "cell_type": "code",
   "execution_count": null,
   "id": "21718fad",
   "metadata": {},
   "outputs": [],
   "source": [
    "# Fnlwgt\n",
    "sns.regplot(data=adult_ds, x=adult_ds['Fnlwgt'], y=adult_ds['Income'], logistic= True).set(xlabel='Log-Odds(Income)', ylabel=\"Fnlwgt\")"
   ]
  },
  {
   "cell_type": "code",
   "execution_count": null,
   "id": "2c1e6db8",
   "metadata": {},
   "outputs": [],
   "source": [
    "# CapitalGain\n",
    "sns.regplot(data=adult_ds, x=adult_ds['CapitalGain'], y=adult_ds['Income'], logistic= True).set(xlabel='Log-Odds(Income)', ylabel=\"CapitalGain\")"
   ]
  },
  {
   "cell_type": "code",
   "execution_count": null,
   "id": "024dd4e9",
   "metadata": {},
   "outputs": [],
   "source": [
    "# CapitalLoss\n",
    "sns.regplot(data=adult_ds, x=adult_ds['CapitalLoss'], y=adult_ds['Income'], logistic= True).set(xlabel='Log-Odds(Income)', ylabel=\"CapitalLoss\")"
   ]
  },
  {
   "cell_type": "code",
   "execution_count": null,
   "id": "ea88af86",
   "metadata": {},
   "outputs": [],
   "source": [
    "# HoursPerWeek\n",
    "sns.regplot(data=adult_ds, x=adult_ds['HoursPerWeek'], y=adult_ds['Income'], logistic= True).set(xlabel='Log-Odds(Income)', ylabel=\"HoursPerWeek\")"
   ]
  },
  {
   "cell_type": "code",
   "execution_count": null,
   "id": "8ce3a9d5",
   "metadata": {},
   "outputs": [],
   "source": [
    "# Outlier Analysis for Age, Fnlwgt, CapitalGain, CapitalLoss, HoursPerWeek\n",
    "\n",
    "figure, axes = plt.subplots(3, 2, sharex=True, figsize=(16,8))\n",
    "\n",
    "sns.boxplot(data=adult_ds[['Age']], y='Age', ax=axes[0, 0]).set(ylabel=\"Age\")\n",
    "sns.boxplot(data=adult_ds[['Fnlwgt']], y='Fnlwgt', ax=axes[0, 1]).set(ylabel=\"Fnlwgt\")\n",
    "sns.boxplot(data=adult_ds[['CapitalGain']], y='CapitalGain', ax=axes[1, 0]).set(ylabel=\"CapitalGain\")\n",
    "sns.boxplot(data=adult_ds[['CapitalLoss']], y='CapitalLoss', ax=axes[1, 1]).set(ylabel=\"CapitalLoss\")\n",
    "sns.boxplot(data=adult_ds[['HoursPerWeek']], y='HoursPerWeek', ax=axes[2, 0]).set(ylabel=\"HoursPerWeek\")"
   ]
  },
  {
   "cell_type": "code",
   "execution_count": null,
   "id": "268bfafd",
   "metadata": {},
   "outputs": [],
   "source": [
    "# Outlier treatment, replacing outliers with Median value\n",
    "import statistics\n",
    "\n",
    "def outlier_treatment(cols):\n",
    "    for i in cols:\n",
    "        print('Column: ', i)\n",
    "        q25, q75 = np.percentile(adult_ds[i], 25), np.percentile(adult_ds[i], 75)\n",
    "        iqr = q75 - q25\n",
    "        print('Interquartile Range: ', iqr)\n",
    "        cut_off = iqr * 1.5\n",
    "        lower = q25 - cut_off\n",
    "        upper = q75 + cut_off\n",
    "        outliers = [x for x in adult_ds[i] if x < lower or x > upper]\n",
    "        adult_ds[i] = np.where(adult_ds[i] < lower, statistics.median(adult_ds[i]), adult_ds[i])\n",
    "        adult_ds[i] = np.where(adult_ds[i] > upper, statistics.median(adult_ds[i]), adult_ds[i])\n",
    "        print('-----------------')"
   ]
  },
  {
   "cell_type": "code",
   "execution_count": null,
   "id": "e227d608",
   "metadata": {},
   "outputs": [],
   "source": [
    "cols = ['Age', 'Fnlwgt', 'CapitalGain', 'CapitalLoss', 'HoursPerWeek']\n",
    "outlier_treatment(cols)"
   ]
  },
  {
   "cell_type": "code",
   "execution_count": null,
   "id": "3de99a0f",
   "metadata": {},
   "outputs": [],
   "source": [
    "# Checking outliers again\n",
    "figure, axes = plt.subplots(3, 2, sharex=True, figsize=(16,8))\n",
    "\n",
    "sns.boxplot(data=adult_ds[['Age']], y='Age', ax=axes[0, 0]).set(ylabel=\"Age\")\n",
    "sns.boxplot(data=adult_ds[['Fnlwgt']], y='Fnlwgt', ax=axes[0, 1]).set(ylabel=\"Fnlwgt\")\n",
    "sns.boxplot(data=adult_ds[['CapitalGain']], y='CapitalGain', ax=axes[1, 0]).set(ylabel=\"CapitalGain\")\n",
    "sns.boxplot(data=adult_ds[['CapitalLoss']], y='CapitalLoss', ax=axes[1, 1]).set(ylabel=\"CapitalLoss\")\n",
    "sns.boxplot(data=adult_ds[['HoursPerWeek']], y='HoursPerWeek', ax=axes[2, 0]).set(ylabel=\"HoursPerWeek\")"
   ]
  },
  {
   "cell_type": "markdown",
   "id": "12868deb",
   "metadata": {},
   "source": [
    "---"
   ]
  },
  {
   "cell_type": "markdown",
   "id": "f317a0dd",
   "metadata": {},
   "source": [
    "##### WOE and IV"
   ]
  },
  {
   "cell_type": "code",
   "execution_count": null,
   "id": "48889dad",
   "metadata": {},
   "outputs": [],
   "source": [
    "adult_woe = adult_ds[['Age', 'Workclass', 'Fnlwgt', 'Education', 'EducationNum', 'MaritalStatus', \n",
    "        'Occupation', 'Relationship', 'Race', 'Sex', 'CapitalGain', 'CapitalLoss',\n",
    "        'HoursPerWeek', 'NativeCountry']]\n",
    "\n",
    "adult_woe.head()"
   ]
  },
  {
   "cell_type": "code",
   "execution_count": null,
   "id": "8adfc7de",
   "metadata": {},
   "outputs": [],
   "source": [
    "adult_ds.Income"
   ]
  },
  {
   "cell_type": "code",
   "execution_count": null,
   "id": "6345c252",
   "metadata": {},
   "outputs": [],
   "source": [
    "import pandas.core.algorithms as algos\n",
    "from pandas import Series\n",
    "import scipy.stats.stats as stats\n",
    "import re\n",
    "import traceback\n",
    "import string\n",
    "\n",
    "max_bin = 20\n",
    "force_bin = 3\n",
    "\n",
    "# define a binning function\n",
    "def mono_bin(Y, X, n = max_bin):\n",
    "    \n",
    "    df1 = pd.DataFrame({\"X\": X, \"Y\": Y})\n",
    "    justmiss = df1[['X','Y']][df1.X.isnull()]\n",
    "    notmiss = df1[['X','Y']][df1.X.notnull()]\n",
    "    r = 0\n",
    "    while np.abs(r) < 1:\n",
    "        try:\n",
    "            d1 = pd.DataFrame({\"X\": notmiss.X, \"Y\": notmiss.Y, \"Bucket\": pd.qcut(notmiss.X, n)})\n",
    "            d2 = d1.groupby('Bucket', as_index=True)\n",
    "            r, p = stats.spearmanr(d2.mean().X, d2.mean().Y)\n",
    "            n = n - 1 \n",
    "        except Exception as e:\n",
    "            n = n - 1\n",
    "\n",
    "    if len(d2) == 1:\n",
    "        n = force_bin         \n",
    "        bins = algos.quantile(notmiss.X, np.linspace(0, 1, n))\n",
    "        if len(np.unique(bins)) == 2:\n",
    "            bins = np.insert(bins, 0, 1)\n",
    "            bins[1] = bins[1]-(bins[1]/2)\n",
    "        d1 = pd.DataFrame({\"X\": notmiss.X, \"Y\": notmiss.Y, \"Bucket\": pd.cut(notmiss.X, np.unique(bins),include_lowest=True)}) \n",
    "        d2 = d1.groupby('Bucket', as_index=True)\n",
    "    \n",
    "    d3 = pd.DataFrame({},index=[])\n",
    "    d3[\"MIN_VALUE\"] = d2.min().X\n",
    "    d3[\"MAX_VALUE\"] = d2.max().X\n",
    "    d3[\"COUNT\"] = d2.count().Y\n",
    "    d3[\"EVENT\"] = d2.sum().Y\n",
    "    d3[\"NONEVENT\"] = d2.count().Y - d2.sum().Y\n",
    "    d3=d3.reset_index(drop=True)\n",
    "    \n",
    "    if len(justmiss.index) > 0:\n",
    "        d4 = pd.DataFrame({'MIN_VALUE':np.nan},index=[0])\n",
    "        d4[\"MAX_VALUE\"] = np.nan\n",
    "        d4[\"COUNT\"] = justmiss.count().Y\n",
    "        d4[\"EVENT\"] = justmiss.sum().Y\n",
    "        d4[\"NONEVENT\"] = justmiss.count().Y - justmiss.sum().Y\n",
    "        d3 = d3.append(d4,ignore_index=True)\n",
    "    \n",
    "    d3[\"EVENT_RATE\"] = d3.EVENT/d3.COUNT\n",
    "    d3[\"NON_EVENT_RATE\"] = d3.NONEVENT/d3.COUNT\n",
    "    d3[\"DIST_EVENT\"] = d3.EVENT/d3.sum().EVENT\n",
    "    d3[\"DIST_NON_EVENT\"] = d3.NONEVENT/d3.sum().NONEVENT\n",
    "    d3[\"WOE\"] = np.log(d3.DIST_EVENT/d3.DIST_NON_EVENT)\n",
    "    d3[\"IV\"] = (d3.DIST_EVENT-d3.DIST_NON_EVENT)*np.log(d3.DIST_EVENT/d3.DIST_NON_EVENT)\n",
    "    d3[\"VAR_NAME\"] = \"VAR\"\n",
    "    d3 = d3[['VAR_NAME','MIN_VALUE', 'MAX_VALUE', 'COUNT', 'EVENT', 'EVENT_RATE', 'NONEVENT', 'NON_EVENT_RATE', 'DIST_EVENT','DIST_NON_EVENT','WOE', 'IV']]       \n",
    "    d3 = d3.replace([np.inf, -np.inf], 0)\n",
    "    d3.IV = d3.IV.sum()\n",
    "    \n",
    "    return(d3)\n",
    "\n",
    "def char_bin(Y, X):\n",
    "        \n",
    "    df1 = pd.DataFrame({\"X\": X, \"Y\": Y})\n",
    "    justmiss = df1[['X','Y']][df1.X.isnull()]\n",
    "    notmiss = df1[['X','Y']][df1.X.notnull()]    \n",
    "    df2 = notmiss.groupby('X',as_index=True)\n",
    "    \n",
    "    d3 = pd.DataFrame({},index=[])\n",
    "    d3[\"COUNT\"] = df2.count().Y\n",
    "    d3[\"MIN_VALUE\"] = df2.sum().Y.index\n",
    "    d3[\"MAX_VALUE\"] = d3[\"MIN_VALUE\"]\n",
    "    d3[\"EVENT\"] = df2.sum().Y\n",
    "    d3[\"NONEVENT\"] = df2.count().Y - df2.sum().Y\n",
    "    \n",
    "    if len(justmiss.index) > 0:\n",
    "        d4 = pd.DataFrame({'MIN_VALUE':np.nan},index=[0])\n",
    "        d4[\"MAX_VALUE\"] = np.nan\n",
    "        d4[\"COUNT\"] = justmiss.count().Y\n",
    "        d4[\"EVENT\"] = justmiss.sum().Y\n",
    "        d4[\"NONEVENT\"] = justmiss.count().Y - justmiss.sum().Y\n",
    "        d3 = d3.append(d4,ignore_index=True)\n",
    "    \n",
    "    d3[\"EVENT_RATE\"] = d3.EVENT/d3.COUNT\n",
    "    d3[\"NON_EVENT_RATE\"] = d3.NONEVENT/d3.COUNT\n",
    "    d3[\"DIST_EVENT\"] = d3.EVENT/d3.sum().EVENT\n",
    "    d3[\"DIST_NON_EVENT\"] = d3.NONEVENT/d3.sum().NONEVENT\n",
    "    d3[\"WOE\"] = np.log(d3.DIST_EVENT/d3.DIST_NON_EVENT)\n",
    "    d3[\"IV\"] = (d3.DIST_EVENT-d3.DIST_NON_EVENT)*np.log(d3.DIST_EVENT/d3.DIST_NON_EVENT)\n",
    "    d3[\"VAR_NAME\"] = \"VAR\"\n",
    "    d3 = d3[['VAR_NAME','MIN_VALUE', 'MAX_VALUE', 'COUNT', 'EVENT', 'EVENT_RATE', 'NONEVENT', 'NON_EVENT_RATE', 'DIST_EVENT','DIST_NON_EVENT','WOE', 'IV']]      \n",
    "    d3 = d3.replace([np.inf, -np.inf], 0)\n",
    "    d3.IV = d3.IV.sum()\n",
    "    d3 = d3.reset_index(drop=True)\n",
    "    \n",
    "    return(d3)\n",
    "\n",
    "def data_vars(df1, target):\n",
    "    \n",
    "    stack = traceback.extract_stack()\n",
    "    filename, lineno, function_name, code = stack[-2]\n",
    "    vars_name = re.compile(r'\\((.*?)\\).*$').search(code).groups()[0]\n",
    "    final = (re.findall(r\"[\\w']+\", vars_name))[-1]\n",
    "    \n",
    "    x = df1.dtypes.index\n",
    "    count = -1\n",
    "    \n",
    "    for i in x:\n",
    "        if i.upper() not in (final.upper()):\n",
    "            if np.issubdtype(df1[i], np.number) and len(Series.unique(df1[i])) > 2:\n",
    "                conv = mono_bin(target, df1[i])\n",
    "                conv[\"VAR_NAME\"] = i\n",
    "                count = count + 1\n",
    "            else:\n",
    "                conv = char_bin(target, df1[i])\n",
    "                conv[\"VAR_NAME\"] = i            \n",
    "                count = count + 1\n",
    "                \n",
    "            if count == 0:\n",
    "                iv_df = conv\n",
    "            else:\n",
    "                iv_df = iv_df.append(conv,ignore_index=True)\n",
    "    \n",
    "    iv = pd.DataFrame({'IV':iv_df.groupby('VAR_NAME').IV.max()})\n",
    "    iv = iv.reset_index()\n",
    "    return(iv_df,iv) "
   ]
  },
  {
   "cell_type": "code",
   "execution_count": null,
   "id": "acc45d6e",
   "metadata": {},
   "outputs": [],
   "source": [
    "final_iv, IV = data_vars(adult_woe, adult_ds.Income)"
   ]
  },
  {
   "cell_type": "code",
   "execution_count": null,
   "id": "7ea3d51d",
   "metadata": {},
   "outputs": [],
   "source": [
    "final_iv"
   ]
  },
  {
   "cell_type": "code",
   "execution_count": null,
   "id": "4218acf8",
   "metadata": {},
   "outputs": [],
   "source": [
    "IV.sort_values('IV')"
   ]
  },
  {
   "cell_type": "code",
   "execution_count": 1,
   "id": "890517a2",
   "metadata": {},
   "outputs": [],
   "source": [
    "# IV         Predictive Power\n",
    "# <0.02      Useless\n",
    "# 0.02-0.1   Weak\n",
    "# 0.1-0.3    Medium\n",
    "# 0.3-0.5    Strong\n",
    "# >0.5       Suspicously too good"
   ]
  },
  {
   "cell_type": "code",
   "execution_count": null,
   "id": "dd8f1619",
   "metadata": {},
   "outputs": [],
   "source": [
    "# We will drop CapitalGain, CapitalLoss, Fnlwgt to begin with\n",
    "\n",
    "adult_ds = adult_ds.drop(['Fnlwgt', 'CapitalGain', 'CapitalLoss'], axis=1)\n",
    "adult_ds.head()"
   ]
  },
  {
   "cell_type": "markdown",
   "id": "9063065d",
   "metadata": {},
   "source": [
    "Function to use WOE values for categorical variables"
   ]
  },
  {
   "cell_type": "code",
   "execution_count": null,
   "id": "874370fc",
   "metadata": {},
   "outputs": [],
   "source": [
    "def useWOE_categorical(cols):\n",
    "    for i in cols:\n",
    "        col_finalIV = final_iv.loc[final_iv['VAR_NAME'] == i]\n",
    "        colfinalIV_unq = col_finalIV['MIN_VALUE'].unique()\n",
    "        for j in range(len(colfinalIV_unq)):\n",
    "            woe_val = col_finalIV.loc[col_finalIV['MIN_VALUE'] == colfinalIV_unq[j]]['WOE'].values[0]\n",
    "            adult_ds[i] = adult_ds[i].replace([colfinalIV_unq[j]], woe_val)\n",
    "            "
   ]
  },
  {
   "cell_type": "code",
   "execution_count": null,
   "id": "178942cc",
   "metadata": {},
   "outputs": [],
   "source": [
    "cols = ['Race', 'NativeCountry', 'Workclass', 'Sex', 'Education', 'Occupation', 'MaritalStatus', 'Relationship']\n",
    "useWOE_categorical(cols)"
   ]
  },
  {
   "cell_type": "code",
   "execution_count": null,
   "id": "946a3dee",
   "metadata": {},
   "outputs": [],
   "source": [
    "adult_ds.head()"
   ]
  },
  {
   "cell_type": "markdown",
   "id": "4a61034f",
   "metadata": {},
   "source": [
    "Function to use WOE values for numerical variables"
   ]
  },
  {
   "cell_type": "code",
   "execution_count": null,
   "id": "474c9e9b",
   "metadata": {},
   "outputs": [],
   "source": [
    "def useWOE_numerical(cols):\n",
    "    for i in cols:\n",
    "        woe_col = 'woe' + i\n",
    "        woe_list = list()\n",
    "        col_finalIV = final_iv.loc[final_iv['VAR_NAME'] == i]\n",
    "        colFinalIV_len = len(col_finalIV.index)\n",
    "        for x in adult_ds[i]:\n",
    "            for j in range(colFinalIV_len):\n",
    "                woe_val = col_finalIV['WOE'].values[j]\n",
    "                if x >= col_finalIV['MIN_VALUE'].values[j] and x <= col_finalIV['MAX_VALUE'].values[j]:\n",
    "                    woe_list.append(woe_val)\n",
    "        adult_ds[woe_col] = woe_list"
   ]
  },
  {
   "cell_type": "code",
   "execution_count": null,
   "id": "400bcf65",
   "metadata": {},
   "outputs": [],
   "source": [
    "cols = ['Age', 'HoursPerWeek', 'EducationNum']\n",
    "useWOE_numerical(cols)"
   ]
  },
  {
   "cell_type": "code",
   "execution_count": null,
   "id": "d1dd5069",
   "metadata": {},
   "outputs": [],
   "source": [
    "adult_ds.head()"
   ]
  },
  {
   "cell_type": "markdown",
   "id": "babc679f",
   "metadata": {},
   "source": [
    "---"
   ]
  },
  {
   "cell_type": "markdown",
   "id": "12aede70",
   "metadata": {},
   "source": [
    "##### Model Development"
   ]
  },
  {
   "cell_type": "code",
   "execution_count": null,
   "id": "21888d49",
   "metadata": {},
   "outputs": [],
   "source": [
    "working_dt = adult_ds\n",
    "y = working_dt.pop('Income')\n",
    "X = working_dt"
   ]
  },
  {
   "cell_type": "code",
   "execution_count": null,
   "id": "3da5cf4a",
   "metadata": {},
   "outputs": [],
   "source": [
    "# Train-Test Split\n",
    "X_train, X_test, y_train, y_test = train_test_split(X, y, test_size=0.2, random_state=42)"
   ]
  },
  {
   "cell_type": "code",
   "execution_count": null,
   "id": "a43b10a9",
   "metadata": {},
   "outputs": [],
   "source": [
    "y_test.head()"
   ]
  },
  {
   "cell_type": "code",
   "execution_count": null,
   "id": "cead0e20",
   "metadata": {},
   "outputs": [],
   "source": [
    "import statsmodels.api as sm"
   ]
  },
  {
   "cell_type": "markdown",
   "id": "04b1edbc",
   "metadata": {},
   "source": [
    "Function to build Logistic Regression model with columns as an input "
   ]
  },
  {
   "cell_type": "code",
   "execution_count": null,
   "id": "fcaf9f15",
   "metadata": {},
   "outputs": [],
   "source": [
    "def build_logReg_model(cols):\n",
    "    # performing the regression and fitting the model\n",
    "    log_reg = sm.Logit(y_train, X_train[cols]).fit()\n",
    "    # printing result\n",
    "    print(log_reg.summary())\n",
    "    return log_reg"
   ]
  },
  {
   "cell_type": "markdown",
   "id": "c0bd68cc",
   "metadata": {},
   "source": [
    "Confusion matrix and accuracy"
   ]
  },
  {
   "cell_type": "code",
   "execution_count": null,
   "id": "9e5d243f",
   "metadata": {},
   "outputs": [],
   "source": [
    "from sklearn.metrics import (confusion_matrix, accuracy_score)\n",
    "\n",
    "def confusionMatrix(y_pred):\n",
    "    cm = confusion_matrix(y_test, y_pred)\n",
    "    print (\"Confusion Matrix : \\n\", cm)\n",
    "    # accuracy score of the model\n",
    "    print('Test accuracy = ', accuracy_score(y_test, y_pred))"
   ]
  },
  {
   "cell_type": "markdown",
   "id": "0f1cffaa",
   "metadata": {},
   "source": [
    "Plotting ROC curve"
   ]
  },
  {
   "cell_type": "code",
   "execution_count": null,
   "id": "26cd6396",
   "metadata": {},
   "outputs": [],
   "source": [
    "from sklearn.metrics import roc_curve, roc_auc_score\n",
    "\n",
    "def plotROC(y_test, y_pred):\n",
    "    fpr, tpr, _ = roc_curve(y_test,  y_pred)\n",
    "    auc = roc_auc_score(y_test, y_pred)\n",
    "    plt.plot(fpr, tpr, label=\"AUC: %0.2f\" %auc)\n",
    "    plt.ylabel('True Positive Rate')\n",
    "    plt.xlabel('False Positive Rate')\n",
    "    plt.legend(loc=4)\n",
    "    plt.show()"
   ]
  },
  {
   "cell_type": "markdown",
   "id": "fedf3a62",
   "metadata": {},
   "source": [
    "---"
   ]
  },
  {
   "cell_type": "markdown",
   "id": "d9db8fc6",
   "metadata": {},
   "source": [
    "##### Model 1: With original values of continuous variables i.e Age, HoursPerWeek and EducationNum"
   ]
  },
  {
   "cell_type": "code",
   "execution_count": null,
   "id": "24c7ec5c",
   "metadata": {},
   "outputs": [],
   "source": [
    "cols = ['Race', 'NativeCountry', 'Workclass', 'Sex', 'Education', 'Occupation', 'MaritalStatus', 'Relationship',\n",
    "       'Age', 'HoursPerWeek', 'EducationNum']\n",
    "log_reg1 = build_logReg_model(cols)"
   ]
  },
  {
   "cell_type": "markdown",
   "id": "db6b00f1",
   "metadata": {},
   "source": [
    "Test Accuracy"
   ]
  },
  {
   "cell_type": "code",
   "execution_count": null,
   "id": "7fdd3135",
   "metadata": {},
   "outputs": [],
   "source": [
    "ytest_pred1 = log_reg1.predict(X_test[cols])\n",
    "ytest_pred1 = list(map(round, ytest_pred1))\n",
    "confusionMatrix(ytest_pred1)"
   ]
  },
  {
   "cell_type": "markdown",
   "id": "7fe233a2",
   "metadata": {},
   "source": [
    "ROC curve"
   ]
  },
  {
   "cell_type": "code",
   "execution_count": null,
   "id": "71d266a9",
   "metadata": {},
   "outputs": [],
   "source": [
    "plotROC(y_test, ytest_pred1)"
   ]
  },
  {
   "cell_type": "markdown",
   "id": "b98b6dce",
   "metadata": {},
   "source": [
    "---"
   ]
  },
  {
   "cell_type": "markdown",
   "id": "c40ae208",
   "metadata": {},
   "source": [
    "##### Model 2: With WOE values of continuous variables i.e woeAge, woeHoursPerWeek and woeEducationNum"
   ]
  },
  {
   "cell_type": "code",
   "execution_count": null,
   "id": "4c87081e",
   "metadata": {},
   "outputs": [],
   "source": [
    "cols = ['Race', 'NativeCountry', 'Workclass', 'Sex', 'Education', 'Occupation', 'MaritalStatus', 'Relationship',\n",
    "        'woeAge', 'woeHoursPerWeek', 'woeEducationNum']\n",
    "log_reg2 = build_logReg_model(cols)"
   ]
  },
  {
   "cell_type": "markdown",
   "id": "9a1a9185",
   "metadata": {},
   "source": []
  },
  {
   "cell_type": "code",
   "execution_count": null,
   "id": "87e49efb",
   "metadata": {},
   "outputs": [],
   "source": [
    "# Test accuracy\n",
    "\n",
    "ytest_pred2 = log_reg2.predict(X_test[cols])\n",
    "ytest_pred2 = list(map(round, ytest_pred2))\n",
    "confusionMatrix(ytest_pred2)"
   ]
  },
  {
   "cell_type": "code",
   "execution_count": null,
   "id": "d9441be1",
   "metadata": {},
   "outputs": [],
   "source": [
    "# ROC curve\n",
    "plotROC(y_test, ytest_pred2)"
   ]
  },
  {
   "cell_type": "markdown",
   "id": "1afda824",
   "metadata": {},
   "source": [
    "---"
   ]
  },
  {
   "cell_type": "markdown",
   "id": "e4ee0876",
   "metadata": {},
   "source": [
    "##### Model 3: Dropping variables with IV score < 0.1 (Weak predictors); with original values of continuous variables"
   ]
  },
  {
   "cell_type": "code",
   "execution_count": null,
   "id": "7c246df2",
   "metadata": {},
   "outputs": [],
   "source": [
    "cols = ['HoursPerWeek', 'Workclass', 'Sex', 'Age', 'EducationNum', 'Education', 'Occupation',\n",
    "        'MaritalStatus', 'Relationship']\n",
    "log_reg3 = build_logReg_model(cols)"
   ]
  },
  {
   "cell_type": "code",
   "execution_count": null,
   "id": "3bdd2410",
   "metadata": {},
   "outputs": [],
   "source": [
    "# Test accuracy\n",
    "\n",
    "ytest_pred3 = log_reg3.predict(X_test[cols])\n",
    "ytest_pred3 = list(map(round, ytest_pred3))\n",
    "confusionMatrix(ytest_pred3)"
   ]
  },
  {
   "cell_type": "code",
   "execution_count": null,
   "id": "2614c121",
   "metadata": {},
   "outputs": [],
   "source": [
    "# ROC curve\n",
    "plotROC(y_test, ytest_pred3)"
   ]
  },
  {
   "cell_type": "markdown",
   "id": "acb9b16a",
   "metadata": {},
   "source": [
    "---"
   ]
  },
  {
   "cell_type": "markdown",
   "id": "bec50c3e",
   "metadata": {},
   "source": [
    "##### Model 4: Dropping variables with IV score < 0.1 (Weak predictors); with woe values of continuous variables"
   ]
  },
  {
   "cell_type": "code",
   "execution_count": null,
   "id": "ce0ff581",
   "metadata": {},
   "outputs": [],
   "source": [
    "cols = ['woeHoursPerWeek', 'Workclass', 'Sex', 'woeAge', 'woeEducationNum', 'Education', 'Occupation',\n",
    "        'MaritalStatus', 'Relationship']\n",
    "log_reg4 = build_logReg_model(cols)"
   ]
  },
  {
   "cell_type": "code",
   "execution_count": null,
   "id": "f7a5a5df",
   "metadata": {},
   "outputs": [],
   "source": [
    "# Test accuracy\n",
    "\n",
    "ytest_pred4 = log_reg4.predict(X_test[cols])\n",
    "ytest_pred4 = list(map(round, ytest_pred4))\n",
    "confusionMatrix(ytest_pred4)"
   ]
  },
  {
   "cell_type": "code",
   "execution_count": null,
   "id": "615e71c7",
   "metadata": {},
   "outputs": [],
   "source": [
    "# ROC curve\n",
    "plotROC(y_test, ytest_pred4)"
   ]
  },
  {
   "cell_type": "code",
   "execution_count": null,
   "id": "7a574e12",
   "metadata": {},
   "outputs": [],
   "source": []
  }
 ],
 "metadata": {
  "kernelspec": {
   "display_name": "Python 3",
   "language": "python",
   "name": "python3"
  },
  "language_info": {
   "codemirror_mode": {
    "name": "ipython",
    "version": 3
   },
   "file_extension": ".py",
   "mimetype": "text/x-python",
   "name": "python",
   "nbconvert_exporter": "python",
   "pygments_lexer": "ipython3",
   "version": "3.8.8"
  }
 },
 "nbformat": 4,
 "nbformat_minor": 5
}
