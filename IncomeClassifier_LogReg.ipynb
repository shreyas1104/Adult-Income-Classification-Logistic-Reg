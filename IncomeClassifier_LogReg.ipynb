{
 "cells": [
  {
   "cell_type": "code",
   "execution_count": null,
   "id": "984c2621",
   "metadata": {},
   "outputs": [],
   "source": [
    "import warnings\n",
    "warnings.filterwarnings(\"ignore\")\n",
    "\n",
    "import pandas as pd\n",
    "import numpy as np\n",
    "import matplotlib.pyplot as plt\n",
    "import seaborn as sns\n",
    "from sklearn.model_selection import train_test_split\n",
    "import sys\n",
    "sys.setrecursionlimit(1500)"
   ]
  },
  {
   "cell_type": "code",
   "execution_count": null,
   "id": "ff1a5f9a",
   "metadata": {},
   "outputs": [],
   "source": [
    "adult_ds = pd.read_csv(\"adult.csv\")"
   ]
  },
  {
   "cell_type": "code",
   "execution_count": null,
   "id": "869c9a8f",
   "metadata": {},
   "outputs": [],
   "source": [
    "adult_ds.columns = ['Age', 'Workclass', 'Fnlwgt', 'Education', 'EducationNum', 'MaritalStatus',\n",
    "                   'Occupation', 'Relationship', 'Race', 'Sex', 'CapitalGain', 'CapitalLoss',\n",
    "                   'HoursPerWeek', 'NativeCountry', 'Income']"
   ]
  },
  {
   "cell_type": "markdown",
   "id": "73b4d69a",
   "metadata": {},
   "source": [
    "---"
   ]
  },
  {
   "cell_type": "markdown",
   "id": "8528fd85",
   "metadata": {},
   "source": [
    "##### Exploratory Data Analysis"
   ]
  },
  {
   "cell_type": "code",
   "execution_count": null,
   "id": "3d22bf09",
   "metadata": {},
   "outputs": [],
   "source": [
    "# Display first 5 entries\n",
    "adult_ds.head()"
   ]
  },
  {
   "cell_type": "code",
   "execution_count": null,
   "id": "73f16717",
   "metadata": {},
   "outputs": [],
   "source": [
    "# Info about columns, type of data \n",
    "adult_ds.info()"
   ]
  },
  {
   "cell_type": "code",
   "execution_count": null,
   "id": "dc860469",
   "metadata": {},
   "outputs": [],
   "source": [
    "# Getting various statistical data like Mean, Standard Deviation, Median, Max Value, Min Value for Numerical vars\n",
    "adult_ds.describe()"
   ]
  },
  {
   "cell_type": "code",
   "execution_count": null,
   "id": "ca38f28d",
   "metadata": {},
   "outputs": [],
   "source": [
    "# Getting various info for Categorical vars\n",
    "adult_ds.describe(include='O')"
   ]
  },
  {
   "cell_type": "code",
   "execution_count": null,
   "id": "73ff5b2d",
   "metadata": {},
   "outputs": [],
   "source": [
    "# Checking if columns have null values, if null- we replace with mean/median or simply drop these entries\n",
    "adult_ds.isnull().sum()"
   ]
  },
  {
   "cell_type": "code",
   "execution_count": null,
   "id": "be6c8934",
   "metadata": {},
   "outputs": [],
   "source": [
    "# Checking correlation between variables  \n",
    "sns.heatmap(adult_ds.corr(), annot=True)"
   ]
  },
  {
   "cell_type": "code",
   "execution_count": null,
   "id": "a5217ba1",
   "metadata": {},
   "outputs": [],
   "source": [
    "# Count of Income <=50K and >50K for each category of WorkingClass\n",
    "sns.countplot(data=adult_ds, x=adult_ds['Income'], hue='Workclass').set(xlabel='Income Type', ylabel='Count')\n",
    "plt.legend(bbox_to_anchor=(1.05, 1), loc='upper left', borderaxespad=0.)"
   ]
  },
  {
   "cell_type": "code",
   "execution_count": null,
   "id": "98dd2682",
   "metadata": {},
   "outputs": [],
   "source": [
    "# Count of Income <=50K and >50K for each category of Education\n",
    "sns.countplot(data=adult_ds, x=adult_ds['Income'], hue='Education').set(xlabel='Income Type', ylabel='Count')\n",
    "plt.legend(bbox_to_anchor=(1.05, 1), loc='upper left', borderaxespad=0.)"
   ]
  },
  {
   "cell_type": "code",
   "execution_count": null,
   "id": "f479ce81",
   "metadata": {},
   "outputs": [],
   "source": [
    "# Count of Income <=50K and >50K for each category of MaritalStatus\n",
    "sns.countplot(data=adult_ds, x=adult_ds['Income'], hue='MaritalStatus').set(xlabel='Income Type', ylabel='Count')\n",
    "plt.legend(bbox_to_anchor=(1.05, 1), loc='upper left', borderaxespad=0.)"
   ]
  },
  {
   "cell_type": "code",
   "execution_count": null,
   "id": "9deb432b",
   "metadata": {},
   "outputs": [],
   "source": [
    "# Count of Income <=50K and >50K for each category of Occupation\n",
    "sns.countplot(data=adult_ds, x=adult_ds['Income'], hue='Occupation').set(xlabel='Income Type', ylabel='Count')\n",
    "plt.legend(bbox_to_anchor=(1.05, 1), loc='upper left', borderaxespad=0.)"
   ]
  },
  {
   "cell_type": "code",
   "execution_count": null,
   "id": "5f027cc0",
   "metadata": {},
   "outputs": [],
   "source": [
    "# Count of Income <=50K and >50K for each category of Relationship\n",
    "sns.countplot(data=adult_ds, x=adult_ds['Income'], hue='Relationship').set(xlabel='Income Type', ylabel='Count')\n",
    "plt.legend(bbox_to_anchor=(1.05, 1), loc='upper left', borderaxespad=0.)"
   ]
  },
  {
   "cell_type": "code",
   "execution_count": null,
   "id": "4f9c7751",
   "metadata": {},
   "outputs": [],
   "source": [
    "# Count of Income <=50K and >50K for each category of Race\n",
    "sns.countplot(data=adult_ds, x=adult_ds['Income'], hue='Race').set(xlabel='Income Type', ylabel='Count')\n",
    "plt.legend(bbox_to_anchor=(1.05, 1), loc='upper left', borderaxespad=0.)"
   ]
  },
  {
   "cell_type": "code",
   "execution_count": null,
   "id": "de113f4c",
   "metadata": {},
   "outputs": [],
   "source": [
    "# Count of Income <=50K and >50K for each category of Sex\n",
    "sns.countplot(data=adult_ds, x=adult_ds['Income'], hue='Sex').set(xlabel='Income Type', ylabel='Count')\n",
    "plt.legend(bbox_to_anchor=(1.05, 1), loc='upper left', borderaxespad=0.)"
   ]
  },
  {
   "cell_type": "code",
   "execution_count": null,
   "id": "fd92e758",
   "metadata": {},
   "outputs": [],
   "source": [
    "adult_ds['Income'].value_counts()"
   ]
  },
  {
   "cell_type": "markdown",
   "id": "d5e486f3",
   "metadata": {},
   "source": [
    "We can see that it is an imbalanced data, we will have to use  class_weights = ‘balanced’"
   ]
  },
  {
   "cell_type": "code",
   "execution_count": null,
   "id": "dab84670",
   "metadata": {},
   "outputs": [],
   "source": [
    "# Transform <=50K to 0 and >50K to 1 in Income column\n",
    "\n",
    "adult_ds['Income'] = np.where(adult_ds['Income'] == ' <=50K', 0, 1)\n",
    "adult_ds.head()"
   ]
  },
  {
   "cell_type": "code",
   "execution_count": null,
   "id": "7e0fed06",
   "metadata": {},
   "outputs": [],
   "source": [
    "adult_ds['Income'].value_counts()"
   ]
  },
  {
   "cell_type": "code",
   "execution_count": null,
   "id": "1715991f",
   "metadata": {},
   "outputs": [],
   "source": [
    "# We can drop EducationNum since it's a numerical value associated with Education\n",
    "adult_ds = adult_ds.drop(['EducationNum'], axis=1)\n",
    "adult_ds.head()"
   ]
  },
  {
   "cell_type": "markdown",
   "id": "1f0dafc0",
   "metadata": {},
   "source": [
    "Checking if Age, Fnlwgt, CapitalGain, CapitalLoss, HoursPerWeek are linearly related to Log-Odds of Income "
   ]
  },
  {
   "cell_type": "code",
   "execution_count": null,
   "id": "6b03d088",
   "metadata": {},
   "outputs": [],
   "source": [
    "# Age\n",
    "sns.regplot(data=adult_ds, x=adult_ds['Age'], y=adult_ds['Income'], logistic= True).set(ylabel='Log-Odds(Income)', xlabel=\"Age\")"
   ]
  },
  {
   "cell_type": "code",
   "execution_count": null,
   "id": "a3fe69ca",
   "metadata": {},
   "outputs": [],
   "source": [
    "# Fnlwgt\n",
    "sns.regplot(data=adult_ds, x=adult_ds['Fnlwgt'], y=adult_ds['Income'], logistic= True).set(ylabel='Log-Odds(Income)', xlabel=\"Fnlwgt\")"
   ]
  },
  {
   "cell_type": "code",
   "execution_count": null,
   "id": "a3cfe3c5",
   "metadata": {},
   "outputs": [],
   "source": [
    "# CapitalGain\n",
    "sns.regplot(data=adult_ds, x=adult_ds['CapitalGain'], y=adult_ds['Income'], logistic= True).set(ylabel='Log-Odds(Income)', xlabel=\"CapitalGain\")"
   ]
  },
  {
   "cell_type": "code",
   "execution_count": null,
   "id": "31b853e1",
   "metadata": {},
   "outputs": [],
   "source": [
    "# CapitalLoss\n",
    "sns.regplot(data=adult_ds, x=adult_ds['CapitalLoss'], y=adult_ds['Income'], logistic= True).set(ylabel='Log-Odds(Income)', xlabel=\"CapitalLoss\")"
   ]
  },
  {
   "cell_type": "code",
   "execution_count": null,
   "id": "a90ee25b",
   "metadata": {},
   "outputs": [],
   "source": [
    "# HoursPerWeek\n",
    "sns.regplot(data=adult_ds, x=adult_ds['HoursPerWeek'], y=adult_ds['Income'], logistic= True).set(ylabel='Log-Odds(Income)', xlabel=\"HoursPerWeek\")"
   ]
  },
  {
   "cell_type": "code",
   "execution_count": null,
   "id": "8ce3a9d5",
   "metadata": {},
   "outputs": [],
   "source": [
    "# Outlier Analysis for Age, Fnlwgt, CapitalGain, CapitalLoss, HoursPerWeek\n",
    "\n",
    "figure, axes = plt.subplots(3, 2, sharex=True, figsize=(16,8))\n",
    "\n",
    "sns.boxplot(data=adult_ds[['Age']], y='Age', ax=axes[0, 0]).set(ylabel=\"Age\")\n",
    "sns.boxplot(data=adult_ds[['Fnlwgt']], y='Fnlwgt', ax=axes[0, 1]).set(ylabel=\"Fnlwgt\")\n",
    "sns.boxplot(data=adult_ds[['CapitalGain']], y='CapitalGain', ax=axes[1, 0]).set(ylabel=\"CapitalGain\")\n",
    "sns.boxplot(data=adult_ds[['CapitalLoss']], y='CapitalLoss', ax=axes[1, 1]).set(ylabel=\"CapitalLoss\")\n",
    "sns.boxplot(data=adult_ds[['HoursPerWeek']], y='HoursPerWeek', ax=axes[2, 0]).set(ylabel=\"HoursPerWeek\")"
   ]
  },
  {
   "cell_type": "code",
   "execution_count": null,
   "id": "268bfafd",
   "metadata": {},
   "outputs": [],
   "source": [
    "# Outlier treatment, replacing outliers with Median value\n",
    "import statistics\n",
    "\n",
    "def outlier_treatment(cols):\n",
    "    q25 = adult_ds[cols].quantile(0.25)\n",
    "    q75 = adult_ds[cols].quantile(0.75)\n",
    "    iqr = q75 - q25\n",
    "    cut_off = iqr * 1.5\n",
    "    lower = q25 - cut_off\n",
    "    upper = q75 + cut_off\n",
    "    df = adult_ds[~((adult_ds[cols] < lower) | (adult_ds[cols] > upper)).any(axis=1)]\n",
    "    return df"
   ]
  },
  {
   "cell_type": "code",
   "execution_count": null,
   "id": "e227d608",
   "metadata": {},
   "outputs": [],
   "source": [
    "cols = ['Age', 'Fnlwgt', 'CapitalGain', 'CapitalLoss', 'HoursPerWeek']\n",
    "adult_ds = outlier_treatment(cols)"
   ]
  },
  {
   "cell_type": "code",
   "execution_count": null,
   "id": "3de99a0f",
   "metadata": {},
   "outputs": [],
   "source": [
    "# Checking outliers again\n",
    "figure, axes = plt.subplots(3, 2, sharex=True, figsize=(16,8))\n",
    "\n",
    "sns.boxplot(data=adult_ds[['Age']], y='Age', ax=axes[0, 0]).set(ylabel=\"Age\")\n",
    "sns.boxplot(data=adult_ds[['Fnlwgt']], y='Fnlwgt', ax=axes[0, 1]).set(ylabel=\"Fnlwgt\")\n",
    "sns.boxplot(data=adult_ds[['CapitalGain']], y='CapitalGain', ax=axes[1, 0]).set(ylabel=\"CapitalGain\")\n",
    "sns.boxplot(data=adult_ds[['CapitalLoss']], y='CapitalLoss', ax=axes[1, 1]).set(ylabel=\"CapitalLoss\")\n",
    "sns.boxplot(data=adult_ds[['HoursPerWeek']], y='HoursPerWeek', ax=axes[2, 0]).set(ylabel=\"HoursPerWeek\")"
   ]
  },
  {
   "cell_type": "markdown",
   "id": "12868deb",
   "metadata": {},
   "source": [
    "---"
   ]
  },
  {
   "cell_type": "markdown",
   "id": "f317a0dd",
   "metadata": {},
   "source": [
    "##### WOE and IV"
   ]
  },
  {
   "cell_type": "code",
   "execution_count": null,
   "id": "48889dad",
   "metadata": {},
   "outputs": [],
   "source": [
    "adult_woe = adult_ds[['Age', 'Workclass', 'Fnlwgt', 'Education', 'MaritalStatus', \n",
    "        'Occupation', 'Relationship', 'Race', 'Sex', 'CapitalGain', 'CapitalLoss',\n",
    "        'HoursPerWeek', 'NativeCountry']]\n",
    "\n",
    "adult_woe.head()"
   ]
  },
  {
   "cell_type": "code",
   "execution_count": null,
   "id": "8adfc7de",
   "metadata": {},
   "outputs": [],
   "source": [
    "adult_ds.Income"
   ]
  },
  {
   "cell_type": "code",
   "execution_count": null,
   "id": "6345c252",
   "metadata": {},
   "outputs": [],
   "source": [
    "import pandas.core.algorithms as algos\n",
    "from pandas import Series\n",
    "import scipy.stats.stats as stats\n",
    "import re\n",
    "import traceback\n",
    "import string\n",
    "\n",
    "max_bin = 20\n",
    "force_bin = 3\n",
    "\n",
    "# define a binning function\n",
    "def mono_bin(Y, X, n = max_bin):\n",
    "    \n",
    "    df1 = pd.DataFrame({\"X\": X, \"Y\": Y})\n",
    "    justmiss = df1[['X','Y']][df1.X.isnull()]\n",
    "    notmiss = df1[['X','Y']][df1.X.notnull()]\n",
    "    r = 0\n",
    "    while np.abs(r) < 1:\n",
    "        try:\n",
    "            d1 = pd.DataFrame({\"X\": notmiss.X, \"Y\": notmiss.Y, \"Bucket\": pd.qcut(notmiss.X, n)})\n",
    "            d2 = d1.groupby('Bucket', as_index=True)\n",
    "            r, p = stats.spearmanr(d2.mean().X, d2.mean().Y)\n",
    "            n = n - 1 \n",
    "        except Exception as e:\n",
    "            n = n - 1\n",
    "\n",
    "    if len(d2) == 1:\n",
    "        n = force_bin         \n",
    "        bins = algos.quantile(notmiss.X, np.linspace(0, 1, n))\n",
    "        if len(np.unique(bins)) == 2:\n",
    "            bins = np.insert(bins, 0, 1)\n",
    "            bins[1] = bins[1]-(bins[1]/2)\n",
    "        d1 = pd.DataFrame({\"X\": notmiss.X, \"Y\": notmiss.Y, \"Bucket\": pd.cut(notmiss.X, np.unique(bins),include_lowest=True)}) \n",
    "        d2 = d1.groupby('Bucket', as_index=True)\n",
    "    \n",
    "    d3 = pd.DataFrame({},index=[])\n",
    "    d3[\"MIN_VALUE\"] = d2.min().X\n",
    "    d3[\"MAX_VALUE\"] = d2.max().X\n",
    "    d3[\"COUNT\"] = d2.count().Y\n",
    "    d3[\"EVENT\"] = d2.sum().Y\n",
    "    d3[\"NONEVENT\"] = d2.count().Y - d2.sum().Y\n",
    "    d3=d3.reset_index(drop=True)\n",
    "    \n",
    "    if len(justmiss.index) > 0:\n",
    "        d4 = pd.DataFrame({'MIN_VALUE':np.nan},index=[0])\n",
    "        d4[\"MAX_VALUE\"] = np.nan\n",
    "        d4[\"COUNT\"] = justmiss.count().Y\n",
    "        d4[\"EVENT\"] = justmiss.sum().Y\n",
    "        d4[\"NONEVENT\"] = justmiss.count().Y - justmiss.sum().Y\n",
    "        d3 = d3.append(d4,ignore_index=True)\n",
    "    \n",
    "    d3[\"EVENT_RATE\"] = d3.EVENT/d3.COUNT\n",
    "    d3[\"NON_EVENT_RATE\"] = d3.NONEVENT/d3.COUNT\n",
    "    d3[\"DIST_EVENT\"] = d3.EVENT/d3.sum().EVENT\n",
    "    d3[\"DIST_NON_EVENT\"] = d3.NONEVENT/d3.sum().NONEVENT\n",
    "    d3[\"WOE\"] = np.log(d3.DIST_EVENT/d3.DIST_NON_EVENT)\n",
    "    d3[\"IV\"] = (d3.DIST_EVENT-d3.DIST_NON_EVENT)*np.log(d3.DIST_EVENT/d3.DIST_NON_EVENT)\n",
    "    d3[\"VAR_NAME\"] = \"VAR\"\n",
    "    d3 = d3[['VAR_NAME','MIN_VALUE', 'MAX_VALUE', 'COUNT', 'EVENT', 'EVENT_RATE', 'NONEVENT', 'NON_EVENT_RATE', 'DIST_EVENT','DIST_NON_EVENT','WOE', 'IV']]       \n",
    "    d3 = d3.replace([np.inf, -np.inf], 0)\n",
    "    d3.IV = d3.IV.sum()\n",
    "    \n",
    "    return(d3)\n",
    "\n",
    "def char_bin(Y, X):\n",
    "        \n",
    "    df1 = pd.DataFrame({\"X\": X, \"Y\": Y})\n",
    "    justmiss = df1[['X','Y']][df1.X.isnull()]\n",
    "    notmiss = df1[['X','Y']][df1.X.notnull()]    \n",
    "    df2 = notmiss.groupby('X',as_index=True)\n",
    "    \n",
    "    d3 = pd.DataFrame({},index=[])\n",
    "    d3[\"COUNT\"] = df2.count().Y\n",
    "    d3[\"MIN_VALUE\"] = df2.sum().Y.index\n",
    "    d3[\"MAX_VALUE\"] = d3[\"MIN_VALUE\"]\n",
    "    d3[\"EVENT\"] = df2.sum().Y\n",
    "    d3[\"NONEVENT\"] = df2.count().Y - df2.sum().Y\n",
    "    \n",
    "    if len(justmiss.index) > 0:\n",
    "        d4 = pd.DataFrame({'MIN_VALUE':np.nan},index=[0])\n",
    "        d4[\"MAX_VALUE\"] = np.nan\n",
    "        d4[\"COUNT\"] = justmiss.count().Y\n",
    "        d4[\"EVENT\"] = justmiss.sum().Y\n",
    "        d4[\"NONEVENT\"] = justmiss.count().Y - justmiss.sum().Y\n",
    "        d3 = d3.append(d4,ignore_index=True)\n",
    "    \n",
    "    d3[\"EVENT_RATE\"] = d3.EVENT/d3.COUNT\n",
    "    d3[\"NON_EVENT_RATE\"] = d3.NONEVENT/d3.COUNT\n",
    "    d3[\"DIST_EVENT\"] = d3.EVENT/d3.sum().EVENT\n",
    "    d3[\"DIST_NON_EVENT\"] = d3.NONEVENT/d3.sum().NONEVENT\n",
    "    d3[\"WOE\"] = np.log(d3.DIST_EVENT/d3.DIST_NON_EVENT)\n",
    "    d3[\"IV\"] = (d3.DIST_EVENT-d3.DIST_NON_EVENT)*np.log(d3.DIST_EVENT/d3.DIST_NON_EVENT)\n",
    "    d3[\"VAR_NAME\"] = \"VAR\"\n",
    "    d3 = d3[['VAR_NAME','MIN_VALUE', 'MAX_VALUE', 'COUNT', 'EVENT', 'EVENT_RATE', 'NONEVENT', 'NON_EVENT_RATE', 'DIST_EVENT','DIST_NON_EVENT','WOE', 'IV']]      \n",
    "    d3 = d3.replace([np.inf, -np.inf], 0)\n",
    "    d3.IV = d3.IV.sum()\n",
    "    d3 = d3.reset_index(drop=True)\n",
    "    \n",
    "    return(d3)\n",
    "\n",
    "def data_vars(df1, target):\n",
    "    \n",
    "    stack = traceback.extract_stack()\n",
    "    filename, lineno, function_name, code = stack[-2]\n",
    "    vars_name = re.compile(r'\\((.*?)\\).*$').search(code).groups()[0]\n",
    "    final = (re.findall(r\"[\\w']+\", vars_name))[-1]\n",
    "    \n",
    "    x = df1.dtypes.index\n",
    "    count = -1\n",
    "    \n",
    "    for i in x:\n",
    "        if i.upper() not in (final.upper()):\n",
    "            if np.issubdtype(df1[i], np.number) and len(Series.unique(df1[i])) > 2:\n",
    "                conv = mono_bin(target, df1[i])\n",
    "                conv[\"VAR_NAME\"] = i\n",
    "                count = count + 1\n",
    "            else:\n",
    "                conv = char_bin(target, df1[i])\n",
    "                conv[\"VAR_NAME\"] = i            \n",
    "                count = count + 1\n",
    "                \n",
    "            if count == 0:\n",
    "                iv_df = conv\n",
    "            else:\n",
    "                iv_df = iv_df.append(conv,ignore_index=True)\n",
    "    \n",
    "    iv = pd.DataFrame({'IV':iv_df.groupby('VAR_NAME').IV.max()})\n",
    "    iv = iv.reset_index()\n",
    "    return(iv_df,iv) "
   ]
  },
  {
   "cell_type": "code",
   "execution_count": null,
   "id": "acc45d6e",
   "metadata": {},
   "outputs": [],
   "source": [
    "final_iv, IV = data_vars(adult_woe, adult_ds.Income)"
   ]
  },
  {
   "cell_type": "code",
   "execution_count": null,
   "id": "7ea3d51d",
   "metadata": {},
   "outputs": [],
   "source": [
    "final_iv"
   ]
  },
  {
   "cell_type": "code",
   "execution_count": null,
   "id": "4218acf8",
   "metadata": {},
   "outputs": [],
   "source": [
    "IV.sort_values('IV')"
   ]
  },
  {
   "cell_type": "code",
   "execution_count": null,
   "id": "a5e2dd0a",
   "metadata": {},
   "outputs": [],
   "source": [
    "# IV         Predictive Power\n",
    "# <0.02      Useless\n",
    "# 0.02-0.1   Weak\n",
    "# 0.1-0.3    Medium\n",
    "# 0.3-0.5    Strong\n",
    "# >0.5       Suspicously too good"
   ]
  },
  {
   "cell_type": "code",
   "execution_count": null,
   "id": "dd8f1619",
   "metadata": {},
   "outputs": [],
   "source": [
    "# We will drop CapitalGain, CapitalLoss, Fnlwgt to begin with\n",
    "\n",
    "adult_ds = adult_ds.drop(['Fnlwgt', 'CapitalGain', 'CapitalLoss'], axis=1)\n",
    "adult_ds.head()"
   ]
  },
  {
   "cell_type": "markdown",
   "id": "11531682",
   "metadata": {},
   "source": [
    "Function to use WOE values for categorical variables"
   ]
  },
  {
   "cell_type": "code",
   "execution_count": null,
   "id": "874370fc",
   "metadata": {},
   "outputs": [],
   "source": [
    "def useWOE_categorical(cols):\n",
    "    for i in cols:\n",
    "        col_finalIV = final_iv.loc[final_iv['VAR_NAME'] == i]\n",
    "        colfinalIV_unq = col_finalIV['MIN_VALUE'].unique()\n",
    "        for j in range(len(colfinalIV_unq)):\n",
    "            woe_val = col_finalIV.loc[col_finalIV['MIN_VALUE'] == colfinalIV_unq[j]]['WOE'].values[0]\n",
    "            adult_ds[i] = adult_ds[i].replace([colfinalIV_unq[j]], woe_val)\n",
    "            "
   ]
  },
  {
   "cell_type": "code",
   "execution_count": null,
   "id": "178942cc",
   "metadata": {},
   "outputs": [],
   "source": [
    "# Rewrite categorical variables with their WOE values\n",
    "\n",
    "cols = ['Race', 'NativeCountry', 'Workclass', 'Sex', 'Education', 'Occupation', 'MaritalStatus', 'Relationship']\n",
    "useWOE_categorical(cols)"
   ]
  },
  {
   "cell_type": "code",
   "execution_count": null,
   "id": "946a3dee",
   "metadata": {},
   "outputs": [],
   "source": [
    "adult_ds.head()"
   ]
  },
  {
   "cell_type": "markdown",
   "id": "3711385e",
   "metadata": {},
   "source": [
    "Function to use WOE values for numerical variables"
   ]
  },
  {
   "cell_type": "code",
   "execution_count": null,
   "id": "474c9e9b",
   "metadata": {},
   "outputs": [],
   "source": [
    "def useWOE_numerical(cols):\n",
    "    for i in cols:\n",
    "        woe_col = 'woe' + i\n",
    "        woe_list = list()\n",
    "        col_finalIV = final_iv.loc[final_iv['VAR_NAME'] == i]\n",
    "        colFinalIV_len = len(col_finalIV.index)\n",
    "        for x in adult_ds[i]:\n",
    "            for j in range(colFinalIV_len):\n",
    "                woe_val = col_finalIV['WOE'].values[j]\n",
    "                if x >= col_finalIV['MIN_VALUE'].values[j] and x <= col_finalIV['MAX_VALUE'].values[j]:\n",
    "                    woe_list.append(woe_val)\n",
    "        adult_ds[woe_col] = woe_list"
   ]
  },
  {
   "cell_type": "code",
   "execution_count": null,
   "id": "400bcf65",
   "metadata": {},
   "outputs": [],
   "source": [
    "# Create new columns for continuous variables with their WOE values for respective bin\n",
    "\n",
    "cols = ['Age', 'HoursPerWeek']\n",
    "useWOE_numerical(cols)"
   ]
  },
  {
   "cell_type": "code",
   "execution_count": null,
   "id": "d1dd5069",
   "metadata": {
    "scrolled": true
   },
   "outputs": [],
   "source": [
    "adult_ds.head()"
   ]
  },
  {
   "cell_type": "markdown",
   "id": "babc679f",
   "metadata": {},
   "source": [
    "---"
   ]
  },
  {
   "cell_type": "markdown",
   "id": "12aede70",
   "metadata": {},
   "source": [
    "##### Model Development"
   ]
  },
  {
   "cell_type": "code",
   "execution_count": null,
   "id": "21888d49",
   "metadata": {},
   "outputs": [],
   "source": [
    "working_dt = adult_ds\n",
    "y = working_dt.pop('Income')\n",
    "X = working_dt"
   ]
  },
  {
   "cell_type": "code",
   "execution_count": null,
   "id": "3da5cf4a",
   "metadata": {},
   "outputs": [],
   "source": [
    "# Train-Test Split\n",
    "X_train, X_test, y_train, y_test = train_test_split(X, y, test_size=0.2, random_state=42)"
   ]
  },
  {
   "cell_type": "code",
   "execution_count": null,
   "id": "e3427b95",
   "metadata": {},
   "outputs": [],
   "source": [
    "y_train.value_counts()"
   ]
  },
  {
   "cell_type": "code",
   "execution_count": null,
   "id": "a43b10a9",
   "metadata": {},
   "outputs": [],
   "source": [
    "y_test.value_counts()"
   ]
  },
  {
   "cell_type": "markdown",
   "id": "2527ac51",
   "metadata": {},
   "source": [
    "Imbalance in train and test data as well"
   ]
  },
  {
   "cell_type": "code",
   "execution_count": null,
   "id": "cead0e20",
   "metadata": {},
   "outputs": [],
   "source": [
    "import statsmodels.api as sm\n",
    "from sklearn.linear_model import LogisticRegression"
   ]
  },
  {
   "cell_type": "markdown",
   "id": "8b446efc",
   "metadata": {},
   "source": [
    "Function to build Logistic Regression model using StatsModel with columns as an input "
   ]
  },
  {
   "cell_type": "code",
   "execution_count": null,
   "id": "fcaf9f15",
   "metadata": {},
   "outputs": [],
   "source": [
    "def logReg_statsModel(cols):\n",
    "    # performing the regression and fitting the model\n",
    "    log_reg = sm.Logit(y_train, X_train[cols]).fit()\n",
    "    # printing result\n",
    "    print(log_reg.summary())\n",
    "    return log_reg"
   ]
  },
  {
   "cell_type": "markdown",
   "id": "2bb0257e",
   "metadata": {},
   "source": [
    "Function to build Logistic Regression model using LinearModel with columns as an input"
   ]
  },
  {
   "cell_type": "code",
   "execution_count": null,
   "id": "1c023b30",
   "metadata": {},
   "outputs": [],
   "source": [
    "def logReg_linModel(cols):\n",
    "    log_reg = LogisticRegression()\n",
    "    log_reg.fit(X_train[cols], y_train)\n",
    "    return log_reg"
   ]
  },
  {
   "cell_type": "markdown",
   "id": "40d76b21",
   "metadata": {},
   "source": [
    "Confusion matrix and accuracy"
   ]
  },
  {
   "cell_type": "code",
   "execution_count": null,
   "id": "9e5d243f",
   "metadata": {},
   "outputs": [],
   "source": [
    "from sklearn.metrics import (confusion_matrix, accuracy_score, recall_score, precision_score, f1_score)\n",
    "\n",
    "def confusionMatrix(y_pred):\n",
    "    cm = confusion_matrix(y_test, y_pred)\n",
    "    cm_df = pd.DataFrame(cm, columns = ['Predicted Negative', 'Predicted Positive'], index = ['Actual Negative', 'Actual Positive'])\n",
    "    print (\"Confusion Matrix : \\n\", cm_df)\n",
    "    print('-'*70)\n",
    "    \n",
    "    TP = cm[1][1]\n",
    "    TN = cm[0][0]\n",
    "    FP = cm[0][1]\n",
    "    FN = cm[1][0]\n",
    "    print('True Positives:', TP)\n",
    "    print('True Negatives:', TN)\n",
    "    print('False Positives:', FP)\n",
    "    print('False Negatives:', FN)\n",
    "    print('-'*70)\n",
    "    \n",
    "    # calculate accuracy\n",
    "    conf_accuracy = (float (TP+TN) / float(TP + TN + FP + FN))\n",
    "    \n",
    "    # calculate mis-classification\n",
    "    conf_misclassification = 1- conf_accuracy\n",
    "    \n",
    "    # calculate the sensitivity\n",
    "    conf_sensitivity = (TP / float(TP + FN))\n",
    "    \n",
    "    # calculate the specificity\n",
    "    conf_specificity = (TN / float(TN + FP))\n",
    "    \n",
    "    # calculate precision\n",
    "    conf_precision = (TN / float(TN + FP))\n",
    "    \n",
    "    # calculate f_1 score\n",
    "    conf_f1 = 2 * ((conf_precision * conf_sensitivity) / (conf_precision + conf_sensitivity))\n",
    "    \n",
    "    print(f'Accuracy: {round(conf_accuracy,2)}') \n",
    "    print(f'Mis-Classification: {round(conf_misclassification,2)}') \n",
    "    print(f'Sensitivity: {round(conf_sensitivity,2)}') \n",
    "    print(f'Specificity: {round(conf_specificity,2)}') \n",
    "    print(f'Precision: {round(conf_precision,2)}')\n",
    "    print(f'f_1 Score: {round(conf_f1,2)}')"
   ]
  },
  {
   "cell_type": "markdown",
   "id": "e122e3bc",
   "metadata": {},
   "source": [
    "Function to plot ROC curve"
   ]
  },
  {
   "cell_type": "code",
   "execution_count": 222,
   "id": "6a08834b",
   "metadata": {},
   "outputs": [],
   "source": [
    "from sklearn.metrics import roc_curve, auc\n",
    "\n",
    "def plotROC(y_test, y_pred):\n",
    "    fpr, tpr, _ = roc_curve(y_test,  y_pred)\n",
    "    auc = roc_auc_score(y_test, y_pred)\n",
    "    plt.plot(fpr, tpr, label=\"AUC: %.2f\" %auc)\n",
    "    plt.legend(loc=4)\n",
    "    plt.show()"
   ]
  },
  {
   "cell_type": "markdown",
   "id": "fedf3a62",
   "metadata": {},
   "source": [
    "---"
   ]
  },
  {
   "cell_type": "markdown",
   "id": "d9db8fc6",
   "metadata": {},
   "source": [
    "##### Model 1: With original values of continuous variables i.e Age, HoursPerWeek and EducationNum"
   ]
  },
  {
   "cell_type": "code",
   "execution_count": null,
   "id": "00eb19fe",
   "metadata": {},
   "outputs": [],
   "source": [
    "cols1 = ['Race', 'NativeCountry', 'Workclass', 'Sex', 'Education', 'Occupation', 'MaritalStatus', 'Relationship',\n",
    "       'Age', 'HoursPerWeek']"
   ]
  },
  {
   "cell_type": "markdown",
   "id": "6f8a6a82",
   "metadata": {},
   "source": [
    "Using StatsModel"
   ]
  },
  {
   "cell_type": "code",
   "execution_count": null,
   "id": "24c7ec5c",
   "metadata": {},
   "outputs": [],
   "source": [
    "logRegSM1 = logReg_statsModel(cols1)"
   ]
  },
  {
   "cell_type": "code",
   "execution_count": null,
   "id": "7fdd3135",
   "metadata": {},
   "outputs": [],
   "source": [
    "# Test Metrics\n",
    "\n",
    "ytest_pred1 = logRegSM1.predict(X_test[cols1])\n",
    "ytest_pred1 = [1 if x > 0.5 else 0 for x in ytest_pred1]\n",
    "confusionMatrix(ytest_pred1)"
   ]
  },
  {
   "cell_type": "code",
   "execution_count": null,
   "id": "216fd79b",
   "metadata": {},
   "outputs": [],
   "source": [
    "# ROC curve\n",
    "plotROC(y_test, ytest_pred1)"
   ]
  },
  {
   "cell_type": "markdown",
   "id": "7cb5a9ba",
   "metadata": {},
   "source": [
    "Using LinearModel"
   ]
  },
  {
   "cell_type": "code",
   "execution_count": null,
   "id": "cd63ecd7",
   "metadata": {},
   "outputs": [],
   "source": [
    "logRegLM1 = logReg_linModel(cols1)"
   ]
  },
  {
   "cell_type": "code",
   "execution_count": null,
   "id": "17577119",
   "metadata": {},
   "outputs": [],
   "source": [
    "# Test Metrics\n",
    "\n",
    "ytest_pred1 = logRegLM1.predict(X_test[cols1])\n",
    "confusionMatrix(ytest_pred1)"
   ]
  },
  {
   "cell_type": "code",
   "execution_count": null,
   "id": "809d73db",
   "metadata": {},
   "outputs": [],
   "source": [
    "# ROC curve\n",
    "plotROC(y_test, ytest_pred1)"
   ]
  },
  {
   "cell_type": "markdown",
   "id": "5110bc67",
   "metadata": {},
   "source": [
    "---"
   ]
  },
  {
   "cell_type": "markdown",
   "id": "16bf7146",
   "metadata": {},
   "source": [
    "##### Model 2: With WOE values of continuous variables i.e woeAge, woeHoursPerWeek and woeEducationNum"
   ]
  },
  {
   "cell_type": "code",
   "execution_count": null,
   "id": "2fea5ea5",
   "metadata": {},
   "outputs": [],
   "source": [
    "cols2 = ['Race', 'NativeCountry', 'Workclass', 'Sex', 'Education', 'Occupation', 'MaritalStatus', 'Relationship',\n",
    "        'woeAge', 'woeHoursPerWeek']"
   ]
  },
  {
   "cell_type": "code",
   "execution_count": null,
   "id": "c485fc20",
   "metadata": {},
   "outputs": [],
   "source": [
    "logRegSM2 = logReg_statsModel(cols2)"
   ]
  },
  {
   "cell_type": "code",
   "execution_count": null,
   "id": "e0b0d84e",
   "metadata": {},
   "outputs": [],
   "source": [
    "# Test Metrics\n",
    "\n",
    "ytest_pred2 = logRegSM2.predict(X_test[cols2])\n",
    "ytest_pred2 = [1 if x > 0.5 else 0 for x in ytest_pred2]\n",
    "confusionMatrix(ytest_pred2)"
   ]
  },
  {
   "cell_type": "code",
   "execution_count": null,
   "id": "c4ba5b78",
   "metadata": {},
   "outputs": [],
   "source": [
    "# ROC curve\n",
    "plotROC(y_test, ytest_pred2)"
   ]
  },
  {
   "cell_type": "markdown",
   "id": "38342411",
   "metadata": {},
   "source": [
    "Using LinearModel"
   ]
  },
  {
   "cell_type": "code",
   "execution_count": null,
   "id": "40a5a966",
   "metadata": {},
   "outputs": [],
   "source": [
    "logRegLM2 = logReg_linModel(cols2)"
   ]
  },
  {
   "cell_type": "code",
   "execution_count": null,
   "id": "4efb6905",
   "metadata": {},
   "outputs": [],
   "source": [
    "# Test Metrics\n",
    "\n",
    "ytest_pred2 = logRegLM2.predict(X_test[cols2])\n",
    "confusionMatrix(ytest_pred2)"
   ]
  },
  {
   "cell_type": "code",
   "execution_count": null,
   "id": "8dc1ee4c",
   "metadata": {},
   "outputs": [],
   "source": [
    "# ROC curve\n",
    "plotROC(y_test, ytest_pred2)"
   ]
  },
  {
   "cell_type": "markdown",
   "id": "ac195e74",
   "metadata": {},
   "source": [
    "---"
   ]
  },
  {
   "cell_type": "markdown",
   "id": "ea9da0c8",
   "metadata": {},
   "source": [
    "We see that we get a better accuracy for the actual values of Numeric vars instead of the woe values"
   ]
  },
  {
   "cell_type": "markdown",
   "id": "615898b0",
   "metadata": {},
   "source": [
    "###### Cross Validation using Linear Model"
   ]
  },
  {
   "cell_type": "code",
   "execution_count": null,
   "id": "37d7b7b1",
   "metadata": {},
   "outputs": [],
   "source": [
    "from sklearn.model_selection import cross_val_score\n",
    "from numpy import mean\n",
    "\n",
    "cols = ['Race', 'NativeCountry', 'Workclass', 'Sex', 'Education', 'Occupation', 'MaritalStatus', 'Relationship',\n",
    "       'Age', 'HoursPerWeek']\n",
    "\n",
    "log_reg = LogisticRegression(solver='newton-cg', class_weight='balanced')\n",
    "log_reg.fit(X_train[cols], y_train)\n",
    "\n",
    "scores = cross_val_score(log_reg, X_train[cols], y_train, cv=10)\n",
    "print('Cross-Validation Accuracy Scores', scores)\n",
    "print('-'*20)\n",
    "print('Mean Accuracy: %.2f' % (mean(scores)))"
   ]
  },
  {
   "cell_type": "markdown",
   "id": "46a5c585",
   "metadata": {},
   "source": [
    "---"
   ]
  },
  {
   "cell_type": "markdown",
   "id": "b855de07",
   "metadata": {},
   "source": [
    "##### Our final model will be our Model 1 since that gave us a better accuracy. "
   ]
  },
  {
   "cell_type": "code",
   "execution_count": 181,
   "id": "83a51a5a",
   "metadata": {},
   "outputs": [
    {
     "name": "stdout",
     "output_type": "stream",
     "text": [
      "Confusion Matrix : \n",
      "                  Predicted Negative  Predicted Positive\n",
      "Actual Negative                2939                 196\n",
      "Actual Positive                 441                 369\n",
      "----------------------------------------------------------------------\n",
      "True Positives: 369\n",
      "True Negatives: 2939\n",
      "False Positives: 196\n",
      "False Negatives: 441\n",
      "----------------------------------------------------------------------\n",
      "Accuracy: 0.84\n",
      "Mis-Classification: 0.16\n",
      "Sensitivity: 0.46\n",
      "Specificity: 0.94\n",
      "Precision: 0.94\n",
      "f_1 Score: 0.61\n"
     ]
    }
   ],
   "source": [
    "cols = ['Race', 'NativeCountry', 'Workclass', 'Sex', 'Education', 'Occupation', 'MaritalStatus', 'Relationship',\n",
    "       'Age', 'HoursPerWeek']\n",
    "\n",
    "logRegLM = logReg_linModel(cols)\n",
    "\n",
    "# Test Metrics\n",
    "ytest_pred = logRegLM.predict(X_test[cols])\n",
    "confusionMatrix(ytest_pred)"
   ]
  },
  {
   "cell_type": "code",
   "execution_count": 180,
   "id": "10a88d1d",
   "metadata": {},
   "outputs": [
    {
     "data": {
      "image/png": "[encoded data removed]",
      "text/plain": [
       "<Figure size 432x288 with 1 Axes>"
      ]
     },
     "metadata": {
      "needs_background": "light"
     },
     "output_type": "display_data"
    }
   ],
   "source": [
    "plotROC(y_test, ytest_pred)"
   ]
  },
  {
   "cell_type": "markdown",
   "id": "c88a0ab3",
   "metadata": {},
   "source": [
    "---"
   ]
  },
  {
   "cell_type": "markdown",
   "id": "23353a42",
   "metadata": {},
   "source": [
    "##### We will now try to find the right threshold for this model"
   ]
  },
  {
   "cell_type": "code",
   "execution_count": 183,
   "id": "1a5c3522",
   "metadata": {},
   "outputs": [],
   "source": [
    "y_train_prob = logRegLM.predict_proba(X_train[cols])"
   ]
  },
  {
   "cell_type": "markdown",
   "id": "db470535",
   "metadata": {},
   "source": [
    "##### Method 1"
   ]
  },
  {
   "cell_type": "code",
   "execution_count": 203,
   "id": "756a695f",
   "metadata": {},
   "outputs": [
    {
     "name": "stdout",
     "output_type": "stream",
     "text": [
      "Optimal Threshold 0.16\n",
      "--------------------------------------------------\n",
      "Confusion Matrix : \n",
      "                  Predicted Negative  Predicted Positive\n",
      "Actual Negative                2215                 920\n",
      "Actual Positive                  90                 720\n",
      "----------------------------------------------------------------------\n",
      "True Positives: 720\n",
      "True Negatives: 2215\n",
      "False Positives: 920\n",
      "False Negatives: 90\n",
      "----------------------------------------------------------------------\n",
      "Accuracy: 0.74\n",
      "Mis-Classification: 0.26\n",
      "Sensitivity: 0.89\n",
      "Specificity: 0.71\n",
      "Precision: 0.71\n",
      "f_1 Score: 0.79\n"
     ]
    }
   ],
   "source": [
    "from sklearn.metrics import roc_curve\n",
    "\n",
    "fpr, tpr, thresholds = roc_curve(y_train, y_train_prob[:,1])\n",
    "optimal_idx = np.argmax(tpr - fpr)\n",
    "\n",
    "print('Optimal Threshold %.2f' %thresholds[optimal_idx])\n",
    "print('-'*50)\n",
    "\n",
    "y_pred_threshold1 = (logRegLM.predict_proba(X_test[cols]) >= thresholds[optimal_idx]).astype(int)\n",
    "\n",
    "confusionMatrix(y_pred_threshold1[:,1])"
   ]
  },
  {
   "cell_type": "code",
   "execution_count": 224,
   "id": "dfe0f3bc",
   "metadata": {},
   "outputs": [
    {
     "data": {
      "image/png": "[encoded data removed]",
      "text/plain": [
       "<Figure size 432x288 with 1 Axes>"
      ]
     },
     "metadata": {
      "needs_background": "light"
     },
     "output_type": "display_data"
    }
   ],
   "source": [
    "plotROC(y_test, y_pred_threshold1[:,1])"
   ]
  },
  {
   "cell_type": "markdown",
   "id": "0499abb2",
   "metadata": {},
   "source": [
    "##### Method 2"
   ]
  },
  {
   "cell_type": "code",
   "execution_count": 215,
   "id": "7c7cee5a",
   "metadata": {},
   "outputs": [],
   "source": [
    "from sklearn.metrics import roc_curve, auc\n",
    "\n",
    "def optimal_threshold_method2(y_train, ytrain_pred):\n",
    "    fpr, tpr, thresholds =roc_curve(y_train, ytrain_pred)\n",
    "    roc_auc = auc(fpr, tpr)\n",
    "    print(\"Area under the ROC curve : %f\" % roc_auc)\n",
    "\n",
    "    ####################################\n",
    "    # The optimal cut off would be where tpr is high and fpr is low\n",
    "    # tpr - (1-fpr) is zero or near to zero is the optimal cut off point\n",
    "    ####################################\n",
    "    i = np.arange(len(tpr)) # index for df\n",
    "    roc = pd.DataFrame({'fpr' : pd.Series(fpr, index=i),'tpr' : pd.Series(tpr, index = i), '1-fpr' : pd.Series(1-fpr, index = i), 'tf' : pd.Series(tpr - (1-fpr), index = i), 'thresholds' : pd.Series(thresholds, index = i)})\n",
    "    roc_t = roc.iloc[(roc.tf-0).abs().argsort()[:1]]\n",
    "\n",
    "    # Plot tpr vs 1-fpr\n",
    "    fig, ax = plt.subplots()\n",
    "    plt.plot(roc['tpr'])\n",
    "    plt.plot(roc['1-fpr'], color = 'red')\n",
    "    plt.xlabel('1-False Positive Rate')\n",
    "    plt.ylabel('True Positive Rate')\n",
    "    plt.title('Receiver operating characteristic')\n",
    "    ax.set_xticklabels([])\n",
    "    \n",
    "    return list(roc_t['thresholds'])"
   ]
  },
  {
   "cell_type": "code",
   "execution_count": 216,
   "id": "b0a60ec4",
   "metadata": {},
   "outputs": [
    {
     "name": "stdout",
     "output_type": "stream",
     "text": [
      "Optimization terminated successfully.\n",
      "         Current function value: 0.343542\n",
      "         Iterations 8\n"
     ]
    }
   ],
   "source": [
    "logRegSM_thr = sm.Logit(y_train, X_train[cols]).fit()\n",
    "ytrain_pred = logRegSM_thr.predict(X_train[cols])"
   ]
  },
  {
   "cell_type": "code",
   "execution_count": 220,
   "id": "6af0b60a",
   "metadata": {},
   "outputs": [
    {
     "name": "stdout",
     "output_type": "stream",
     "text": [
      "Area under the ROC curve : 0.872748\n",
      "[0.25078454413167595]\n",
      "--------------------------------------------------\n",
      "Confusion Matrix : \n",
      "                  Predicted Negative  Predicted Positive\n",
      "Actual Negative                2461                 674\n",
      "Actual Positive                 169                 641\n",
      "----------------------------------------------------------------------\n",
      "True Positives: 641\n",
      "True Negatives: 2461\n",
      "False Positives: 674\n",
      "False Negatives: 169\n",
      "----------------------------------------------------------------------\n",
      "Accuracy: 0.79\n",
      "Mis-Classification: 0.21\n",
      "Sensitivity: 0.79\n",
      "Specificity: 0.79\n",
      "Precision: 0.79\n",
      "f_1 Score: 0.79\n"
     ]
    },
    {
     "data": {
      "image/png": "[encoded data removed]",
      "text/plain": [
       "<Figure size 432x288 with 1 Axes>"
      ]
     },
     "metadata": {
      "needs_background": "light"
     },
     "output_type": "display_data"
    }
   ],
   "source": [
    "threshold = optimal_threshold_method2(y_train, ytrain_pred)\n",
    "print(threshold)\n",
    "print('-'*50)\n",
    "\n",
    "y_pred_threshold2 = logRegSM_thr.predict(X_test[cols])\n",
    "y_pred_threshold2 = y_pred_threshold2.map(lambda x: 1 if x > threshold[0] else 0)\n",
    "\n",
    "confusionMatrix(y_pred_threshold2)"
   ]
  },
  {
   "cell_type": "code",
   "execution_count": null,
   "id": "8598f6ab",
   "metadata": {},
   "outputs": [],
   "source": []
  }
 ],
 "metadata": {
  "kernelspec": {
   "display_name": "Python 3",
   "language": "python",
   "name": "python3"
  },
  "language_info": {
   "codemirror_mode": {
    "name": "ipython",
    "version": 3
   },
   "file_extension": ".py",
   "mimetype": "text/x-python",
   "name": "python",
   "nbconvert_exporter": "python",
   "pygments_lexer": "ipython3",
   "version": "3.8.8"
  }
 },
 "nbformat": 4,
 "nbformat_minor": 5
}
